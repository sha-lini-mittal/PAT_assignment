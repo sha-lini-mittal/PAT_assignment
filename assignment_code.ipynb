{
  "nbformat": 4,
  "nbformat_minor": 0,
  "metadata": {
    "colab": {
      "provenance": [],
      "collapsed_sections": [],
      "mount_file_id": "17lVL5U1n5qmvcyUU-kVjQZTNp51YkzqI",
      "authorship_tag": "ABX9TyPKC8Zv4uMLM48pt4kPh7Tu",
      "include_colab_link": true
    },
    "kernelspec": {
      "name": "python3",
      "display_name": "Python 3"
    },
    "language_info": {
      "name": "python"
    }
  },
  "cells": [
    {
      "cell_type": "markdown",
      "metadata": {
        "id": "view-in-github",
        "colab_type": "text"
      },
      "source": [
        "<a href=\"https://colab.research.google.com/github/shalni6/PAT_assignment/blob/main/assignment_code.ipynb\" target=\"_parent\"><img src=\"https://colab.research.google.com/assets/colab-badge.svg\" alt=\"Open In Colab\"/></a>"
      ]
    },
    {
      "cell_type": "code",
      "source": [
        "from google.colab import drive\n",
        "drive.mount('/content/drive')"
      ],
      "metadata": {
        "id": "RrPyryXqGaS3"
      },
      "execution_count": null,
      "outputs": []
    },
    {
      "cell_type": "code",
      "source": [
        "import numpy as np\n",
        "import pandas as pd\n",
        "import seaborn as sns\n",
        "import matplotlib.pyplot as plt"
      ],
      "metadata": {
        "id": "CKS6mVsAG1uq"
      },
      "execution_count": null,
      "outputs": []
    },
    {
      "cell_type": "code",
      "execution_count": null,
      "metadata": {
        "id": "kbzdEIsjEISt"
      },
      "outputs": [],
      "source": [
        "df = pd.read_csv(\"/content/drive/MyDrive/imdb.csv\")"
      ]
    },
    {
      "cell_type": "code",
      "source": [
        "df.head()\n"
      ],
      "metadata": {
        "id": "fobKeMZZHCv5"
      },
      "execution_count": null,
      "outputs": []
    },
    {
      "cell_type": "markdown",
      "source": [
        "**PREPARING THE DATA**"
      ],
      "metadata": {
        "id": "-aErLR6_S_mn"
      }
    },
    {
      "cell_type": "code",
      "source": [
        "df.isnull().sum()"
      ],
      "metadata": {
        "id": "k2yQLqQlIktf"
      },
      "execution_count": null,
      "outputs": []
    },
    {
      "cell_type": "code",
      "source": [
        "df.columns"
      ],
      "metadata": {
        "id": "Ry-5yaFTKnUF"
      },
      "execution_count": null,
      "outputs": []
    },
    {
      "cell_type": "code",
      "source": [
        "del df['id']\n",
        "del df['certificate']\n",
        "del df['directors_id']\n",
        "del df['directors_name']\n",
        "del df['stars_id']\n",
        "del df['stars_name']\n",
        "del df['description']"
      ],
      "metadata": {
        "id": "G2tMdKMcUDld"
      },
      "execution_count": null,
      "outputs": []
    },
    {
      "cell_type": "code",
      "source": [
        "df.head()"
      ],
      "metadata": {
        "id": "gaWmk5N8VAej"
      },
      "execution_count": null,
      "outputs": []
    },
    {
      "cell_type": "markdown",
      "source": [
        "**QUESTION 1: HOW MANY UNIQUE GENRES ARE THERE IN THE DATASET**"
      ],
      "metadata": {
        "id": "4dk0gMbDLRjW"
      }
    },
    {
      "cell_type": "code",
      "source": [
        "unique_genres = []\n",
        "genre_ = []\n",
        "\n",
        "for i in df['genre']:\n",
        "  u = i.split(',')\n",
        "  genre_ = genre_ + u  \n",
        "                                                                                  # ANOTHER WAY OF DOING THE SAME THING IS REPLACING THE NEXT 3 LINES WITH THE CODE WHICH IS COMMENTED\n",
        "  for j in genre_:                                                                                                                \n",
        "    if j not in unique_genres:                                                    # x = np.array(genre_)\n",
        "      unique_genres.append(j)                                                     # unique_genres = np.unique(x)\n",
        "\n",
        "x = pd.DataFrame(unique_genres, columns = ['Genre'])\n",
        "x"
      ],
      "metadata": {
        "id": "X2ZVqIxIhFCR"
      },
      "execution_count": null,
      "outputs": []
    },
    {
      "cell_type": "markdown",
      "source": [
        "**QUESTION 2: WHICH IS THE MOST VOTED MOVIE FOR EACH GENRE**"
      ],
      "metadata": {
        "id": "u6n14NmlLlT4"
      }
    },
    {
      "cell_type": "code",
      "source": [],
      "metadata": {
        "id": "mVNgpOr6evju"
      },
      "execution_count": null,
      "outputs": []
    },
    {
      "cell_type": "markdown",
      "source": [
        "**QUESTION 3: WHICH GENRE HAS THE MOST NUMBER OF MOVIES IN THE DATASET**"
      ],
      "metadata": {
        "id": "XyI46EBPMQLA"
      }
    },
    {
      "cell_type": "code",
      "source": [
        "x.sort_values(by = 'Number of Movies' , ascending = False)['Genre'].values\n",
        "y = pd.DataFrame(x, columns = ['Genre','Number of Movies'])\n",
        "y"
      ],
      "metadata": {
        "id": "pheIjEOWTZC7"
      },
      "execution_count": null,
      "outputs": []
    },
    {
      "cell_type": "code",
      "source": [
        "movies_ = []\n",
        "\n",
        "for k in unique_genres:\n",
        " c = 0 \n",
        "\n",
        " for i in df['genre']:\n",
        "  u = i.split(',')\n",
        "\n",
        "  for j in u:\n",
        "     if j == k:\n",
        "      c = c + 1\n",
        "\n",
        " movies_.append([k,c])\n",
        "\n",
        "def second_sort(v):\n",
        "  return v[1]\n",
        "\n",
        "\n",
        "movies_.sort(key=second_sort , reverse=True)\n",
        "movies_[0]"
      ],
      "metadata": {
        "id": "LZruhl54jKNx"
      },
      "execution_count": null,
      "outputs": []
    },
    {
      "cell_type": "markdown",
      "source": [
        "**QUESTION 4: WHAT IS THE DISTRIBUTION OF NUMBER OF MOVIES IN EACH GENRE**"
      ],
      "metadata": {
        "id": "7NPUYsyNM5v6"
      }
    },
    {
      "cell_type": "code",
      "source": [
        "k = x.sort_values(by = 'Number of Movies', ascending = False)['Genre'].values\n",
        "j = x.sort_values(by = 'Number of Movies', ascending = False)['Number of Movies'].values\n",
        "\n",
        "fig, plot = plt.subplots(figsize = (60,25))\n",
        "\n",
        "plot.bar(k,j)\n",
        "\n",
        "plt.xlabel('Genre')\n",
        "plt.ylabel('No of Movies')\n",
        "plt.title('Movies in Each Genre')\n",
        "\n",
        "plt.show()"
      ],
      "metadata": {
        "id": "LGQ944xvw3La"
      },
      "execution_count": null,
      "outputs": []
    },
    {
      "cell_type": "markdown",
      "source": [
        "**QUESTION 5: WHICH ARE THE TOP 10 MOVIES WITH MAXIMUM GROSS INCOME**"
      ],
      "metadata": {
        "id": "B6Qc2T-pNiqM"
      }
    },
    {
      "cell_type": "code",
      "source": [
        "df.sort_values(by = 'gross_income', ascending = False).head(10)\n"
      ],
      "metadata": {
        "id": "i9FlZUIa1e04"
      },
      "execution_count": null,
      "outputs": []
    },
    {
      "cell_type": "markdown",
      "source": [
        "**QUESTION 6: WHAT IS THE AVERAGE DURATION OF MOVIES IN EACH GENRE (in ascending order)**"
      ],
      "metadata": {
        "id": "PfJLZ9CNOOhp"
      }
    },
    {
      "cell_type": "code",
      "source": [
        "min = []\n",
        "\n",
        "for n in df['duration']:\n",
        "  u = n.split(' ')[0]                                                 # TO REMOVE 'min' FROM THE COLUMN 'duration'\n",
        "  min.append(u)\n",
        "  \n",
        "df['duration'] = min\n",
        "\n",
        "duration = []\n",
        "\n",
        "for k in unique_genres:\n",
        " d = 0 \n",
        " count = 0\n",
        " m = -1\n",
        "\n",
        " for i in df['genre']:\n",
        "  m = m + 1\n",
        "  u = i.split(',')\n",
        "\n",
        "  for j in u:\n",
        "     if j == k:\n",
        "      d = d + df['duration'].iloc[m]\n",
        "      count = count + 1\n",
        "     ave = d/count\n",
        "\n",
        " duration.append([k,ave])\n",
        "\n",
        "y = pd.DataFrame(duration, columns = ['Genre','Average Duration'])\n",
        "y"
      ],
      "metadata": {
        "id": "1KiGP6T5X_YW"
      },
      "execution_count": null,
      "outputs": []
    },
    {
      "cell_type": "markdown",
      "source": [
        "**QUESTION 7: FIND THE AVERAGE GROSS INCOME IN EACH GENRE**"
      ],
      "metadata": {
        "id": "KE5MADQFO5qx"
      }
    },
    {
      "cell_type": "code",
      "source": [
        "av_gross_income = []\n",
        "\n",
        "for k in unique_genres:\n",
        " d = 0 \n",
        " count = 0\n",
        " m = -1\n",
        "\n",
        " for i in df['genre']:\n",
        "  m = m + 1\n",
        "  u = i.split(',')\n",
        "\n",
        "  for j in u:\n",
        "     if j == k:\n",
        "      d = d + df['gross_income'].iloc[m]\n",
        "      count = count + 1\n",
        "     ave = d/count\n",
        "\n",
        "  av_gross_income.append([k,ave])\n",
        "  \n",
        "y = pd.DataFrame(av_gross_income, columns = ['Genre','Average Gross Income'])\n",
        "y"
      ],
      "metadata": {
        "id": "QYDUhxqGaLHA"
      },
      "execution_count": null,
      "outputs": []
    },
    {
      "cell_type": "markdown",
      "source": [
        "**QUESTION 8: WHICH GENRE IS BEST TO MAKE MOVIES TO GET MAXIMUM GROSS INCOME**"
      ],
      "metadata": {
        "id": "ZRVDl0E8PcA0"
      }
    },
    {
      "cell_type": "code",
      "source": [
        "av_gross_income.sort(key=second_sort , reverse=True)\n",
        "av_gross_income[0]"
      ],
      "metadata": {
        "id": "VESj5nGhexzi"
      },
      "execution_count": null,
      "outputs": []
    },
    {
      "cell_type": "markdown",
      "source": [
        "**QUESTION 9: WHICH GENRE IS WORST TO MAKE MOVIES TO GET MAXIMUM GROSS INCOME**"
      ],
      "metadata": {
        "id": "hciNVtXkP3as"
      }
    },
    {
      "cell_type": "code",
      "source": [
        "av_gross_income[-1]"
      ],
      "metadata": {
        "id": "2GBnY6JDfGkz"
      },
      "execution_count": null,
      "outputs": []
    },
    {
      "cell_type": "markdown",
      "source": [
        "**QUESTION 10: FIND THE 2 PAIR OF GENRES WHICH HAS MAXIMUM NUMBER OF MOVIES**\n"
      ],
      "metadata": {
        "id": "9c3QuEosQPog"
      }
    },
    {
      "cell_type": "code",
      "source": [],
      "metadata": {
        "id": "_WEv1BaVQ8YL"
      },
      "execution_count": null,
      "outputs": []
    }
  ]
}